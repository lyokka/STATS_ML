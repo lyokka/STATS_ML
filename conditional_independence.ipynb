{
 "cells": [
  {
   "cell_type": "markdown",
   "metadata": {},
   "source": [
    "### <span style=\"color:red\">Probability:</span>\n",
    "\n",
    "- A: air plane {late, on time}\n",
    "- B: weather condition {rain, no rain}\n",
    "\n",
    "|       |late                             |on time                              |                          |\n",
    "|-------|---------------------------------|-------------------------------------|--------------------------|\n",
    "|no rain|P(late, no rain) = $\\frac{2}{20}$|P(on time, no rain) = $\\frac{14}{20}$|P(no rain) = $\\frac{4}{5}$|\n",
    "|rain   |P(late, rain) = $\\frac{3}{20}$   |P(on time, rain) = $\\frac{1}{20}$    |P(rain) = $\\frac{1}{5}$   |\n",
    "|       |P(late) = $\\frac{1}{4}$          |P(on time) = $\\frac{3}{4}$           |                          |\n"
   ]
  },
  {
   "cell_type": "markdown",
   "metadata": {},
   "source": [
    "### <span style=\"color:red\"> Conditional Probability :</span>\n",
    "\n",
    "| conditional probability          |                                                                     |\n",
    "|----------------------------------|---------------------------------------------------------------------|\n",
    "|$P(\\text{no rain | on time})$     |$\\frac{P(\\text{on time, no rain})}{P(\\text{on time})} = \\frac{14}{15}$|\n",
    "|$P(\\text{rain | on time})$        | $\\frac{P(\\text{on time, rain})}{P(\\text{on time})} = \\frac{1}{15}$   |\n",
    "|$P(\\text{no rain | late})$        |       $\\frac{P(\\text{late, no rain})}{P(\\text{late})} = \\frac{2}{5}$|\n",
    "|$P(\\text{rain | late})$           |       $\\frac{P(\\text{late, rain})}{P(\\text{late})} = \\frac{3}{5}$   |\n",
    "|$P(\\text{late | no rain})$        |    $\\frac{P(\\text{late, no rain})}{P(\\text{no rain})} = \\frac{1}{8}$|\n",
    "|$P(\\text{on time | no rain})$     | $\\frac{P(\\text{on time, no rain})}{P(\\text{no rain})} = \\frac{7}{8}$|\n",
    "|$P(\\text{late | rain})$           |    $\\frac{P(\\text{late, rain})}{P(\\text{rain})} = \\frac{3}{4}$      |\n",
    "|$P(\\text{on time | rain})$        | $\\frac{P(\\text{on time, rain})}{P(\\text{rain})} = \\frac{1}{4}$      |\n",
    "\n",
    "\n",
    "#### <span style=\"color:green\">Explanation:</span> \n",
    "\n",
    "   - conditional probability: updated probability\n",
    "   - $P(\\text{no rain | on time}) = \\frac{14}{15} > P(\\text{no rain}) = \\frac{4}{5}$ given flight is on time, probability no rain becomes higher\n",
    "   - $P(\\text{no rain | late}) = \\frac{2}{5} < P(\\text{no rain}) = \\frac{4}{5}$ given flight is late, probability no rain becomes lower"
   ]
  },
  {
   "cell_type": "markdown",
   "metadata": {},
   "source": [
    "### <span style=\"color:red\"> Law of Total Probability </span>\n",
    "\n",
    "   - $P(\\text{late}) = P(\\text{late, rain}) + P(\\text{late, no rain}) = P(\\text{late | rain})P(\\text{rain}) + P(\\text{late | no rain})P(\\text{no rain}) = \\frac{1}{4}$"
   ]
  },
  {
   "cell_type": "markdown",
   "metadata": {},
   "source": [
    "### <span style=\"color:red\"> Bayes' Rule </span>\n",
    "\n",
    "   - $P(\\text{rain | late}) = \\frac{P(\\text{late | rain}) P(\\text{rain})}{P(\\text{late | rain})P({\\text{rain}})+P(\\text{on time | rain})P({\\text{rain}})}$\n",
    "   \n",
    "   - proof:\n",
    "   \n",
    "       $P(\\text{rain | late}) = \\frac{P(\\text{rain, late})}{P(\\text{late})}$\n",
    "       \n",
    "       $= \\frac{P(\\text{late | rain}) P(\\text{rain})}{P(\\text{late | rain})P({\\text{rain}})+P(\\text{on time | rain})P({\\text{rain}})}$\n",
    "       "
   ]
  },
  {
   "cell_type": "markdown",
   "metadata": {},
   "source": [
    "### <span style=\"color:red\"> Independence and Conditional Independence </span>\n",
    "\n",
    "  - P(AB) = P(A)P(B) $\\rightarrow$ no connection $\\rightarrow P(A|B) = \\frac{P(A,B)}{P(B)} = P(A)$\n",
    "  - P(AB|C) = P(A|C)P(B|C) $\\rightarrow$ no connection under condition"
   ]
  },
  {
   "cell_type": "markdown",
   "metadata": {},
   "source": [
    "### <span style=\"color:blue\"> Conditional Independence $\\nRightarrow$ Independence </span>\n",
    "\n",
    "- A: air plane {late, on time}\n",
    "- B: weather condition {rain, no rain}\n",
    "- C: free taxi {taxi, no taxi}\n",
    "\n",
    "Given:\n",
    "\n",
    "- $P(\\text{taxi | rain}) = 0.1$    **It's hard to get a free taxi in rainy days**\n",
    "- $P(\\text{taxi | no rain}) = 0.6$ \n",
    "\n",
    "we suppose air plane arrived late and free taxi are conditionally(given it is raining) independent, since **whether a taxi is free or not has nothing to do with airplane, if we know the whether** \n",
    "\n",
    "- $P(\\text{taxi, late | rain}) = P(\\text{taxi | rain}) P(\\text{late | rain})$\n",
    "- $P(\\text{taxi, late | rain}) = P(\\text{taxi | rain}) P(\\text{late | rain})$\n",
    "\n",
    "then we can derive\n",
    "\n",
    "- $P(\\text{taxi}) = P(\\text{taxi | rain})P(\\text{rain}) + P(\\text{taxi | no rain})P(\\text{no rain}) = 0.5$\n",
    "- $P(\\text{taxi | late}) = \\frac{P(\\text{taxi, late})}{P(\\text{late})}$\n",
    "- $= \\frac{P(\\text{taxi, late, rain}) + P(\\text{taxi, late, no rain})}{P(\\text{late})}$\n",
    "- $= \\frac{ P(\\text{taxi, late | rain})P(\\text{rain}) + P(\\text{taxi, late | no rain})P(\\text{no rain})}{P(\\text{late})}$\n",
    "- $= \\frac{ P(\\text{taxi | rain})P(\\text{late | rain})P(\\text{rain}) + P(\\text{taxi | no rain})P(\\text{taxi | no rain})P(\\text{no rain})}{P(\\text{late})} = 0.3$\n",
    "\n",
    "#### Explanation:\n",
    "\n",
    "$P(\\text{taxi | late}) \\leq P(\\text{taxi})$\n",
    "\n",
    "If we know an airplane is late, the probability of rain is $\\frac{3}{5}$ ($P(\\text{rain | late})$), so it is more likely to rain, when it is raining, the probability to get a free taxi becomes lower. **So airplane late and free taxi are not independent**."
   ]
  },
  {
   "cell_type": "markdown",
   "metadata": {},
   "source": [
    "### <span style=\"color:blue\"> Independence $\\nRightarrow$ Conditional Independence </span>\n",
    "\n",
    "- A: air plane {late, on time}\n",
    "- B: weather condition {rain, no rain}\n",
    "- D: mechanical problem {problem, no problem}\n",
    "\n",
    "We suppose mechanical problem and weather condition are independent.\n",
    "$P(\\text{problem | rain}) = P(\\text{problem})$\n",
    "\n",
    "Given:\n",
    "\n",
    "- $P(\\text{problem}) = P(\\text{problem | rain}) = P(\\text{problem | no rain}) = 0.1$\n",
    "- $P(\\text{late | problem}) = 0.7$, $P(\\text{late | no problem}) = 0.2$\n",
    "- $P(\\text{late | no rain, problem }) = 0.5$\n",
    "\n",
    "then we can derive:\n",
    "\n",
    "- $P(\\text{problem | late, no rain}) = 0.4$\n",
    "- $P(\\text{problem | late}) = 0.28$\n",
    "\n",
    "so mechanical problem and weather condition is not independent given airplane is late. If we already know the airplane is late, if it is a sunny day, then the probability the airplane has a mechanical problem will increases"
   ]
  }
 ],
 "metadata": {
  "kernelspec": {
   "display_name": "Python (py27)",
   "language": "python",
   "name": "py27"
  },
  "language_info": {
   "codemirror_mode": {
    "name": "ipython",
    "version": 2
   },
   "file_extension": ".py",
   "mimetype": "text/x-python",
   "name": "python",
   "nbconvert_exporter": "python",
   "pygments_lexer": "ipython2",
   "version": "2.7.13"
  }
 },
 "nbformat": 4,
 "nbformat_minor": 2
}
