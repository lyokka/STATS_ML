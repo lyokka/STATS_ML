{
 "cells": [
  {
   "cell_type": "markdown",
   "metadata": {},
   "source": [
    "## 1. IID"
   ]
  },
  {
   "cell_type": "markdown",
   "metadata": {},
   "source": [
    "\n",
    "\n",
    "Independent and identically distributed random variables(iid)\n",
    "\n",
    "#### example:\n",
    "toss 10 fair coins, the results $X_1, X_2, ... X_{10}$ are iid\n",
    "\n",
    "-----------------------"
   ]
  },
  {
   "cell_type": "markdown",
   "metadata": {},
   "source": [
    "## 2. Point Estimator"
   ]
  },
  {
   "cell_type": "markdown",
   "metadata": {},
   "source": [
    "$\\hat{\\Theta} = h(X_1, X_2, ... , X_n)$, where $X_i$s are iid, $h(X_1, X_2, ..., X_n)$ is a **statistic**, a real-valued function of data.\n",
    "\n",
    "#### example:\n",
    "- sample mean\n",
    "$\\hat{\\Theta} = \\bar{X} =  \\frac{X_1 + X_2 + ... + X_n}{n}$\n",
    "\n",
    "- sample variance\n",
    "$\\hat{\\Theta} = S^2 =  \\frac{1}{n-1} \\sum_{k=1}^{n}(X_k - \\bar{X})^2 $\n",
    "----------------------------------------------------"
   ]
  },
  {
   "cell_type": "markdown",
   "metadata": {},
   "source": [
    "## 3. Mean Square Error and Bias"
   ]
  },
  {
   "cell_type": "markdown",
   "metadata": {},
   "source": [
    "#### 3.1 Mean Square Error(MSE):\n",
    "$MSE(\\hat{\\Theta})=E[(\\hat{\\Theta}-\\theta)^2]$\n",
    "\n",
    "$\\hat{\\Theta}$: estimated value\n",
    "\n",
    "$\\theta$: true value\n",
    "\n",
    "------------------------------------------"
   ]
  },
  {
   "cell_type": "markdown",
   "metadata": {},
   "source": [
    "#### 3.2 Bias:\n",
    "$B(\\hat{\\Theta}) = E[\\hat{\\Theta}] - \\theta$\n",
    "\n",
    "#### example:\n",
    "- sample mean\n",
    "$B(\\bar{X}) = E[\\bar{X}] - \\mu$\n",
    "   - $\\bar{X}$: sample mean\n",
    "   - $\\mu$: population mean\n",
    "\n",
    "- sample variance\n",
    "$B(S^2) = E[S^2] - \\sigma^2$\n",
    "   - $S^2$: sample variance\n",
    "   - $\\sigma^2$: population variance\n",
    "-----------------------------------"
   ]
  },
  {
   "cell_type": "markdown",
   "metadata": {},
   "source": [
    "#### 3.3 Bias Variance Decoposition\n",
    "\n",
    "\n",
    "$\\begin{align}\n",
    "    MSE(\\hat{\\Theta}) &= E[(\\hat{\\Theta} - \\theta)^2] \\\\\n",
    "                      &= Var(\\hat{\\Theta} - \\theta) + (E[\\hat{\\Theta}-\\theta])^2 \\\\\n",
    "                      &= Var(\\hat{\\Theta}) + B(\\hat{\\Theta})^2\n",
    "\\end{align}$\n",
    "\n",
    "--------------------"
   ]
  },
  {
   "cell_type": "markdown",
   "metadata": {},
   "source": [
    "## 4. Sample Variance"
   ]
  },
  {
   "cell_type": "markdown",
   "metadata": {},
   "source": [
    "#### sample variance: $S^2 =  \\frac{1}{n-1} \\sum_{k=1}^{n}(X_k - \\bar{X})^2$\n",
    "\n",
    "> ** Why $S^2 =  \\frac{1}{n-1} \\sum_{k=1}^{n}(X_k - \\bar{X})^2$ NOT $\\bar{S}^2 =  \\frac{1}{n} \\sum_{k=1}^{n}(X_k - \\bar{X})^2$ **\n",
    "\n",
    "<span style=\"color:red\">Because $\\bar{S}^2 =  \\frac{1}{n} \\sum_{k=1}^{n}(X_k - \\bar{X})^2$ is a **biased** estimator</span>\n",
    "\n",
    "---------------"
   ]
  },
  {
   "cell_type": "markdown",
   "metadata": {},
   "source": [
    "**Proof**:\n",
    "    \n",
    "> $\\begin{align}\n",
    "    \\bar{S}^2 &= \\frac{1}{n}( \\sum_{k=1}^{n}{X_k}^2 - n \\bar{X}^2 ) \\\\\n",
    "    E[\\bar{X}^2] &= \\frac{\\sigma^2}{n} + \\mu^2 \\\\ \\\\\n",
    "    E[\\bar{S}^2] &= \\frac{1}{n} (\\sum_{k=1}^{n}E[{X_k}^2] - nE[\\bar{X}^2])\\\\\n",
    "    E[\\bar{S}^2] &= \\frac{1}{n} (n(\\mu^2+\\sigma^2) - n(\\mu^2+\\frac{\\sigma^2}{n})) = \\sigma^2(\\frac{n-1}{n})\n",
    "\\end{align}$\n",
    "\n",
    "$B(\\bar{S}^2) = E[\\bar{S}^2] - \\sigma^2 = - \\frac{\\sigma^2}{n} \\Leftarrow \\text{NOT 0}$\n",
    "\n",
    "since $E[\\bar{S}^2] = \\sigma^2(\\frac{n-1}{n})$ then we can modify it by multiply $\\frac{n-1}{n}E[\\bar{S}^2] = E[\\frac{n-1}{n}\\bar{S}^2] = \\sigma^2$, finally we got unbias estimator $S^2 =  \\frac{1}{n-1} \\sum_{k=1}^{n}(X_k - \\bar{X})^2$\n",
    "\n",
    "--------------------"
   ]
  },
  {
   "cell_type": "markdown",
   "metadata": {},
   "source": [
    "## 5. Chi-Squared Distribution, $t$-Distribution, F-Distribution"
   ]
  },
  {
   "cell_type": "markdown",
   "metadata": {},
   "source": [
    "#### 5.1 Chi-Squared Distribution Definition:\n",
    "\n",
    "$Y = Z_1^2 + Z_2^2 + ... + Z_n^2$, where $Z_1, Z_2, ... Z_n$ are iid $\\mathcal{N}(0,1)$, then Y is $\\chi^2(n)$\n",
    "\n",
    "- if $X_1, X_2, ..., X_n$ is iid <span style=\"color:red\">normal</span> rv, sample variance $S^2 =  \\frac{1}{n-1} \\sum_{k=1}^{n}(X_k - \\bar{X})^2$, follow Chi-Squared distribution\n",
    "- if $Y \\sim \\chi^2(n)$, when degree of freedom($k$) grows large, $\\frac{Y-n}{\\sqrt{2n}} \\sim \\mathcal{N}(0,1)$\n",
    "\n",
    "![](figures/chi2.gif)\n",
    "\n",
    "-------------------------------"
   ]
  },
  {
   "cell_type": "markdown",
   "metadata": {},
   "source": [
    "#### 5.2 $t$-Distribution Definition:\n",
    "\n",
    "$T = \\frac{Z}{\\sqrt{Y/n}}$ where $Z \\sim \\mathcal{N}(0,1)$, $Y \\sim \\chi^2(n)$\n",
    "\n",
    "- If $X_1, X_2, ..., X_n$ is iid $\\mathcal{N}(\\mu, \\sigma ^ 2)$, normalized sample mean $T = \\frac{\\bar{X}-\\mu}{S/\\sqrt{n}}$ follows $t-$distribution\n",
    "\n",
    "- when $n \\rightarrow \\infty$ $t-$distribution converges to $\\mathcal{N}(0,1)$\n",
    "\n",
    "![](figures/t.gif)\n",
    "\n",
    "---------------------------"
   ]
  },
  {
   "cell_type": "markdown",
   "metadata": {},
   "source": [
    "#### 5.3 F-distribution\n",
    "\n",
    "F-distribution definition:\n",
    "\n",
    "$F = \\frac{U/m}{V/n}$, where$U \\sim \\chi^2(m)$, $V\\sim \\chi^2(n)$, and $U,V$ are independent, then $F \\sim \\mathcal{F}(m,n)$\n",
    "\n",
    "![](figures/f.png)\n",
    "\n",
    "-----------------------"
   ]
  },
  {
   "cell_type": "markdown",
   "metadata": {},
   "source": [
    "some proof in case you don't know:\n",
    "\n",
    "$\\begin{align}\n",
    "\\bar{S}^2 &=  \\frac{1}{n} \\sum_{k=1}^{n}(X_k - \\bar{X})^2 \\\\\n",
    "          &=  \\frac{1}{n} \\sum_{k=1}^{n}({X_k}^2 + \\bar{X}^2 - 2X_k \\bar{X}) \\\\\n",
    "          &=  \\frac{1}{n}( \\sum_{k=1}^{n}{X_k}^2 + \\sum_{k=1}^{n} \\bar{X}^2 - \\sum_{k=1}^{n} 2X_k \\bar{X}) \\\\\n",
    "          &= \\frac{1}{n}( \\sum_{k=1}^{n}{X_k}^2 + n \\bar{X}^2 -  2\\bar{X} \\sum_{k=1}^{n} X_k ) \\\\\n",
    "          &= \\frac{1}{n}( \\sum_{k=1}^{n}{X_k}^2 + n \\bar{X}^2 -  2\\bar{X} \\cdot n \\bar{X} ) \\\\\n",
    "          &= \\frac{1}{n}( \\sum_{k=1}^{n}{X_k}^2 - n \\bar{X}^2 )\n",
    "\\end{align}$\n",
    "\n",
    "$\\begin{align}\n",
    "Var(\\bar{X}) &= Var(\\frac{\\sum_{i=1}^{n}{X_i}}{n}) = \\frac{n Var(X_i)}{n^2} = \\frac{\\sigma^2}{n}  \\\\\n",
    "E[\\bar{X}^2] &= Var(\\bar{X}) + (E[\\bar{X}]^2) =  \\frac{\\sigma^2}{n} + \\mu^2\n",
    "\\end{align}$\n",
    "\n",
    "$Var(Y)= E[(Y-E[Y])^2] = E[Y^2] - E[Y]^2$\n",
    "\n",
    "$Var(Y+a) = Var(Y)$"
   ]
  }
 ],
 "metadata": {
  "kernelspec": {
   "display_name": "Python (py27)",
   "language": "python",
   "name": "py27"
  },
  "language_info": {
   "codemirror_mode": {
    "name": "ipython",
    "version": 2
   },
   "file_extension": ".py",
   "mimetype": "text/x-python",
   "name": "python",
   "nbconvert_exporter": "python",
   "pygments_lexer": "ipython2",
   "version": "2.7.13"
  }
 },
 "nbformat": 4,
 "nbformat_minor": 2
}
